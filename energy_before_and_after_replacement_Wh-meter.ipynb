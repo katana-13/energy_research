{
 "cells": [
  {
   "cell_type": "markdown",
   "metadata": {},
   "source": [
    "# Анализ потребления электрической энергии до и после замены счетчика\n",
    "\n",
    "## Описание проекта\n",
    "\n",
    "* Прибор учета (далее - ПУ) Потребителя был заменен 10.08.2021г. в связи с подозрением на несанкционированное вмешательство. Взамен снятого прибора установлен аналогичный прибор. Приборы учета позволяют вести почасовый учет электрической энергии. Данные с таких счетчиков могут быть считаны и записаны в базу данных, хранение информации в ней осуществляется независимо от счетчика.\n",
    "\n",
    "#### Источник данных - таблица значений потребленной электрической энергии за каждый час (время московское) за определенный период времени\n",
    "\n",
    "#### Цель проекта - определить, имеется ли значимое различие в потреблении электрической энергии до снятия прибора учета и после."
   ]
  },
  {
   "cell_type": "markdown",
   "metadata": {},
   "source": [
    "## Содержание \n",
    "1. Изучение общей информации\n",
    "2. Подготовка данных\n",
    "3. Исследовательский анализ\n",
    "4. Проверка статистических гипотез\n",
    "5. Выводы"
   ]
  },
  {
   "cell_type": "markdown",
   "metadata": {},
   "source": [
    "## Изучение общей информации"
   ]
  },
  {
   "cell_type": "code",
   "execution_count": 27,
   "metadata": {},
   "outputs": [
    {
     "name": "stdout",
     "output_type": "stream",
     "text": [
      "<class 'pandas.core.frame.DataFrame'>\n",
      "RangeIndex: 5137 entries, 0 to 5136\n",
      "Data columns (total 2 columns):\n",
      " #   Column                                                 Non-Null Count  Dtype \n",
      "---  ------                                                 --------------  ----- \n",
      " 0   ПКУ БГ\n",
      "Основные [1 час.]\r\n",
      "UTC+3                        5137 non-null   object\n",
      " 1   Активная энергия, прием\r\n",
      "Значения на интервале, кВт*ч  5137 non-null   object\n",
      "dtypes: object(2)\n",
      "memory usage: 80.4+ KB\n"
     ]
    },
    {
     "data": {
      "text/html": [
       "<div>\n",
       "<style scoped>\n",
       "    .dataframe tbody tr th:only-of-type {\n",
       "        vertical-align: middle;\n",
       "    }\n",
       "\n",
       "    .dataframe tbody tr th {\n",
       "        vertical-align: top;\n",
       "    }\n",
       "\n",
       "    .dataframe thead th {\n",
       "        text-align: right;\n",
       "    }\n",
       "</style>\n",
       "<table border=\"1\" class=\"dataframe\">\n",
       "  <thead>\n",
       "    <tr style=\"text-align: right;\">\n",
       "      <th></th>\n",
       "      <th>ПКУ БГ\\nОсновные [1 час.]\\r\\nUTC+3</th>\n",
       "      <th>Активная энергия, прием\\r\\nЗначения на интервале, кВт*ч</th>\n",
       "    </tr>\n",
       "  </thead>\n",
       "  <tbody>\n",
       "    <tr>\n",
       "      <th>0</th>\n",
       "      <td>01.04.2021 01:00:00</td>\n",
       "      <td>22.02</td>\n",
       "    </tr>\n",
       "    <tr>\n",
       "      <th>1</th>\n",
       "      <td>01.04.2021 02:00:00</td>\n",
       "      <td>20.76</td>\n",
       "    </tr>\n",
       "    <tr>\n",
       "      <th>2</th>\n",
       "      <td>01.04.2021 03:00:00</td>\n",
       "      <td>19.74</td>\n",
       "    </tr>\n",
       "    <tr>\n",
       "      <th>3</th>\n",
       "      <td>01.04.2021 04:00:00</td>\n",
       "      <td>18.12</td>\n",
       "    </tr>\n",
       "    <tr>\n",
       "      <th>4</th>\n",
       "      <td>01.04.2021 05:00:00</td>\n",
       "      <td>13.68</td>\n",
       "    </tr>\n",
       "    <tr>\n",
       "      <th>5</th>\n",
       "      <td>01.04.2021 06:00:00</td>\n",
       "      <td>12.84</td>\n",
       "    </tr>\n",
       "    <tr>\n",
       "      <th>6</th>\n",
       "      <td>01.04.2021 07:00:00</td>\n",
       "      <td>19.38</td>\n",
       "    </tr>\n",
       "    <tr>\n",
       "      <th>7</th>\n",
       "      <td>01.04.2021 08:00:00</td>\n",
       "      <td>21.6</td>\n",
       "    </tr>\n",
       "    <tr>\n",
       "      <th>8</th>\n",
       "      <td>01.04.2021 09:00:00</td>\n",
       "      <td>19.14</td>\n",
       "    </tr>\n",
       "    <tr>\n",
       "      <th>9</th>\n",
       "      <td>01.04.2021 10:00:00</td>\n",
       "      <td>16.62</td>\n",
       "    </tr>\n",
       "  </tbody>\n",
       "</table>\n",
       "</div>"
      ],
      "text/plain": [
       "  ПКУ БГ\\nОсновные [1 час.]\\r\\nUTC+3  \\\n",
       "0                01.04.2021 01:00:00   \n",
       "1                01.04.2021 02:00:00   \n",
       "2                01.04.2021 03:00:00   \n",
       "3                01.04.2021 04:00:00   \n",
       "4                01.04.2021 05:00:00   \n",
       "5                01.04.2021 06:00:00   \n",
       "6                01.04.2021 07:00:00   \n",
       "7                01.04.2021 08:00:00   \n",
       "8                01.04.2021 09:00:00   \n",
       "9                01.04.2021 10:00:00   \n",
       "\n",
       "  Активная энергия, прием\\r\\nЗначения на интервале, кВт*ч  \n",
       "0                                              22.02       \n",
       "1                                              20.76       \n",
       "2                                              19.74       \n",
       "3                                              18.12       \n",
       "4                                              13.68       \n",
       "5                                              12.84       \n",
       "6                                              19.38       \n",
       "7                                               21.6       \n",
       "8                                              19.14       \n",
       "9                                              16.62       "
      ]
     },
     "metadata": {},
     "output_type": "display_data"
    },
    {
     "data": {
      "text/html": [
       "<div>\n",
       "<style scoped>\n",
       "    .dataframe tbody tr th:only-of-type {\n",
       "        vertical-align: middle;\n",
       "    }\n",
       "\n",
       "    .dataframe tbody tr th {\n",
       "        vertical-align: top;\n",
       "    }\n",
       "\n",
       "    .dataframe thead th {\n",
       "        text-align: right;\n",
       "    }\n",
       "</style>\n",
       "<table border=\"1\" class=\"dataframe\">\n",
       "  <thead>\n",
       "    <tr style=\"text-align: right;\">\n",
       "      <th></th>\n",
       "      <th>ПКУ БГ\\nОсновные [1 час.]\\r\\nUTC+3</th>\n",
       "      <th>Активная энергия, прием\\r\\nЗначения на интервале, кВт*ч</th>\n",
       "    </tr>\n",
       "  </thead>\n",
       "  <tbody>\n",
       "    <tr>\n",
       "      <th>5127</th>\n",
       "      <td>31.10.2021 16:00:00</td>\n",
       "      <td>33.84</td>\n",
       "    </tr>\n",
       "    <tr>\n",
       "      <th>5128</th>\n",
       "      <td>31.10.2021 17:00:00</td>\n",
       "      <td>28.98</td>\n",
       "    </tr>\n",
       "    <tr>\n",
       "      <th>5129</th>\n",
       "      <td>31.10.2021 18:00:00</td>\n",
       "      <td>36.84</td>\n",
       "    </tr>\n",
       "    <tr>\n",
       "      <th>5130</th>\n",
       "      <td>31.10.2021 19:00:00</td>\n",
       "      <td>35.28</td>\n",
       "    </tr>\n",
       "    <tr>\n",
       "      <th>5131</th>\n",
       "      <td>31.10.2021 20:00:00</td>\n",
       "      <td>33.96</td>\n",
       "    </tr>\n",
       "    <tr>\n",
       "      <th>5132</th>\n",
       "      <td>31.10.2021 21:00:00</td>\n",
       "      <td>36.42</td>\n",
       "    </tr>\n",
       "    <tr>\n",
       "      <th>5133</th>\n",
       "      <td>31.10.2021 22:00:00</td>\n",
       "      <td>35.16</td>\n",
       "    </tr>\n",
       "    <tr>\n",
       "      <th>5134</th>\n",
       "      <td>31.10.2021 23:00:00</td>\n",
       "      <td>36.6</td>\n",
       "    </tr>\n",
       "    <tr>\n",
       "      <th>5135</th>\n",
       "      <td>01.11.2021 00:00:00</td>\n",
       "      <td>31.5</td>\n",
       "    </tr>\n",
       "    <tr>\n",
       "      <th>5136</th>\n",
       "      <td>Сумма</td>\n",
       "      <td>156357</td>\n",
       "    </tr>\n",
       "  </tbody>\n",
       "</table>\n",
       "</div>"
      ],
      "text/plain": [
       "     ПКУ БГ\\nОсновные [1 час.]\\r\\nUTC+3  \\\n",
       "5127                31.10.2021 16:00:00   \n",
       "5128                31.10.2021 17:00:00   \n",
       "5129                31.10.2021 18:00:00   \n",
       "5130                31.10.2021 19:00:00   \n",
       "5131                31.10.2021 20:00:00   \n",
       "5132                31.10.2021 21:00:00   \n",
       "5133                31.10.2021 22:00:00   \n",
       "5134                31.10.2021 23:00:00   \n",
       "5135                01.11.2021 00:00:00   \n",
       "5136                              Сумма   \n",
       "\n",
       "     Активная энергия, прием\\r\\nЗначения на интервале, кВт*ч  \n",
       "5127                                              33.84       \n",
       "5128                                              28.98       \n",
       "5129                                              36.84       \n",
       "5130                                              35.28       \n",
       "5131                                              33.96       \n",
       "5132                                              36.42       \n",
       "5133                                              35.16       \n",
       "5134                                               36.6       \n",
       "5135                                               31.5       \n",
       "5136                                             156357       "
      ]
     },
     "metadata": {},
     "output_type": "display_data"
    },
    {
     "data": {
      "text/plain": [
       "None"
      ]
     },
     "metadata": {},
     "output_type": "display_data"
    },
    {
     "data": {
      "text/html": [
       "<div>\n",
       "<style scoped>\n",
       "    .dataframe tbody tr th:only-of-type {\n",
       "        vertical-align: middle;\n",
       "    }\n",
       "\n",
       "    .dataframe tbody tr th {\n",
       "        vertical-align: top;\n",
       "    }\n",
       "\n",
       "    .dataframe thead th {\n",
       "        text-align: right;\n",
       "    }\n",
       "</style>\n",
       "<table border=\"1\" class=\"dataframe\">\n",
       "  <thead>\n",
       "    <tr style=\"text-align: right;\">\n",
       "      <th></th>\n",
       "      <th>ПКУ БГ\\nОсновные [1 час.]\\r\\nUTC+3</th>\n",
       "      <th>Активная энергия, прием\\r\\nЗначения на интервале, кВт*ч</th>\n",
       "    </tr>\n",
       "  </thead>\n",
       "  <tbody>\n",
       "    <tr>\n",
       "      <th>count</th>\n",
       "      <td>5137</td>\n",
       "      <td>5137.00</td>\n",
       "    </tr>\n",
       "    <tr>\n",
       "      <th>unique</th>\n",
       "      <td>5137</td>\n",
       "      <td>657.00</td>\n",
       "    </tr>\n",
       "    <tr>\n",
       "      <th>top</th>\n",
       "      <td>23.08.2021 19:00:00</td>\n",
       "      <td>31.56</td>\n",
       "    </tr>\n",
       "    <tr>\n",
       "      <th>freq</th>\n",
       "      <td>1</td>\n",
       "      <td>32.00</td>\n",
       "    </tr>\n",
       "  </tbody>\n",
       "</table>\n",
       "</div>"
      ],
      "text/plain": [
       "       ПКУ БГ\\nОсновные [1 час.]\\r\\nUTC+3  \\\n",
       "count                                5137   \n",
       "unique                               5137   \n",
       "top                   23.08.2021 19:00:00   \n",
       "freq                                    1   \n",
       "\n",
       "        Активная энергия, прием\\r\\nЗначения на интервале, кВт*ч  \n",
       "count                                             5137.00        \n",
       "unique                                             657.00        \n",
       "top                                                 31.56        \n",
       "freq                                                32.00        "
      ]
     },
     "metadata": {},
     "output_type": "display_data"
    }
   ],
   "source": [
    "# импорт библиотек и извлечение данных\n",
    "import pandas as pd\n",
    "import matplotlib.pyplot as plt\n",
    "from scipy import stats as st\n",
    "\n",
    "try:\n",
    "    df = pd.read_excel('/Users/hp/Desktop/notebooks/21_1_electry/data_energy.xlsx')\n",
    "except:\n",
    "    print('Проверьте правильность указания пути к файлу')\n",
    "\n",
    "# просмотр общей информации\n",
    "display(df.head(10), df.tail(10), df.info(), df.describe())"
   ]
  },
  {
   "cell_type": "markdown",
   "metadata": {},
   "source": [
    "#### *Для анализа использованы данные из ПО АРМ \"Энергосфера\", сохраненные за период с 01.04.2021г. по 01.11.2021г. (полугодие)*"
   ]
  },
  {
   "cell_type": "markdown",
   "metadata": {},
   "source": [
    "## Подготовка данных"
   ]
  },
  {
   "cell_type": "markdown",
   "metadata": {},
   "source": [
    "Исходные данные - таблица, состоящая из 5137 строк, данные объектового типа (строки). Данные собраны автоматизированно. Для целей анализа необходимо преобразовать данные к соответствующим типам: дата/время (datetime) и числовой формат (float)"
   ]
  },
  {
   "cell_type": "code",
   "execution_count": 28,
   "metadata": {},
   "outputs": [
    {
     "data": {
      "text/plain": [
       "Index(['ПКУ БГ\\nОсновные [1 час.]\\r\\nUTC+3', 'Активная энергия, прием\\r\\nЗначения на интервале, кВт*ч'], dtype='object')"
      ]
     },
     "execution_count": 28,
     "metadata": {},
     "output_type": "execute_result"
    }
   ],
   "source": [
    "df.columns # выведем наименования столбцов"
   ]
  },
  {
   "cell_type": "code",
   "execution_count": 37,
   "metadata": {},
   "outputs": [],
   "source": [
    "# переименование столбцов\n",
    "df.rename(columns={'ПКУ БГ\\nОсновные [1 час.]\\r\\nUTC+3':'Дата', 'Активная энергия, прием\\r\\nЗначения на интервале, кВт*ч':'Активная энергия, кВтч'}, inplace=True)\n",
    "\n",
    "# удаление последней строки\n",
    "df = df.drop(df[len(df)-1:].index)\n",
    "\n",
    "# изменение формата данных (дата/время)\n",
    "df['Дата'] = pd.to_datetime(df['Дата'],dayfirst=True)\n",
    "\n",
    "df[(df['Активная энергия, кВтч'] == '-')]\n",
    "# В данных есть пропуски, промаркированные \"-\" заменим их 0\n",
    "# обнаружено при попытке изменения формата\n",
    "df['Активная энергия, кВтч'] = df['Активная энергия, кВтч'].replace({'-':'0'})\n",
    "\n",
    "# Преобразуем тип данных для вычислений\n",
    "df['Активная энергия, кВтч'] = df['Активная энергия, кВтч'].astype(float)\n",
    "\n",
    "# Дополнительные столбцы\n",
    "df['День'] = pd.DatetimeIndex(df['Дата']).day\n",
    "df['Месяц'] = pd.DatetimeIndex(df['Дата']).month\n",
    "\n",
    "df['день2'] = df['Дата'].dt.strftime('%d %b %Y')"
   ]
  },
  {
   "cell_type": "markdown",
   "metadata": {},
   "source": [
    "## Исследовательский анализ"
   ]
  },
  {
   "cell_type": "markdown",
   "metadata": {},
   "source": [
    "Оценим изменение потребления электрической энергии за полгода. Построим график, на котором отметим дату замены ПУ."
   ]
  },
  {
   "cell_type": "code",
   "execution_count": 38,
   "metadata": {},
   "outputs": [
    {
     "data": {
      "text/html": [
       "<div>\n",
       "<style scoped>\n",
       "    .dataframe tbody tr th:only-of-type {\n",
       "        vertical-align: middle;\n",
       "    }\n",
       "\n",
       "    .dataframe tbody tr th {\n",
       "        vertical-align: top;\n",
       "    }\n",
       "\n",
       "    .dataframe thead th {\n",
       "        text-align: right;\n",
       "    }\n",
       "</style>\n",
       "<table border=\"1\" class=\"dataframe\">\n",
       "  <thead>\n",
       "    <tr style=\"text-align: right;\">\n",
       "      <th></th>\n",
       "      <th>Месяц</th>\n",
       "      <th>День</th>\n",
       "      <th>Активная энергия, кВтч</th>\n",
       "    </tr>\n",
       "    <tr>\n",
       "      <th>день2</th>\n",
       "      <th></th>\n",
       "      <th></th>\n",
       "      <th></th>\n",
       "    </tr>\n",
       "  </thead>\n",
       "  <tbody>\n",
       "    <tr>\n",
       "      <th>01 Apr 2021</th>\n",
       "      <td>4</td>\n",
       "      <td>1</td>\n",
       "      <td>424.62</td>\n",
       "    </tr>\n",
       "    <tr>\n",
       "      <th>02 Apr 2021</th>\n",
       "      <td>4</td>\n",
       "      <td>2</td>\n",
       "      <td>456.78</td>\n",
       "    </tr>\n",
       "    <tr>\n",
       "      <th>03 Apr 2021</th>\n",
       "      <td>4</td>\n",
       "      <td>3</td>\n",
       "      <td>370.38</td>\n",
       "    </tr>\n",
       "    <tr>\n",
       "      <th>04 Apr 2021</th>\n",
       "      <td>4</td>\n",
       "      <td>4</td>\n",
       "      <td>385.80</td>\n",
       "    </tr>\n",
       "    <tr>\n",
       "      <th>05 Apr 2021</th>\n",
       "      <td>4</td>\n",
       "      <td>5</td>\n",
       "      <td>403.38</td>\n",
       "    </tr>\n",
       "    <tr>\n",
       "      <th>...</th>\n",
       "      <td>...</td>\n",
       "      <td>...</td>\n",
       "      <td>...</td>\n",
       "    </tr>\n",
       "    <tr>\n",
       "      <th>28 Oct 2021</th>\n",
       "      <td>10</td>\n",
       "      <td>28</td>\n",
       "      <td>833.70</td>\n",
       "    </tr>\n",
       "    <tr>\n",
       "      <th>29 Oct 2021</th>\n",
       "      <td>10</td>\n",
       "      <td>29</td>\n",
       "      <td>855.48</td>\n",
       "    </tr>\n",
       "    <tr>\n",
       "      <th>30 Oct 2021</th>\n",
       "      <td>10</td>\n",
       "      <td>30</td>\n",
       "      <td>804.00</td>\n",
       "    </tr>\n",
       "    <tr>\n",
       "      <th>31 Oct 2021</th>\n",
       "      <td>10</td>\n",
       "      <td>31</td>\n",
       "      <td>822.12</td>\n",
       "    </tr>\n",
       "    <tr>\n",
       "      <th>01 Nov 2021</th>\n",
       "      <td>11</td>\n",
       "      <td>1</td>\n",
       "      <td>31.50</td>\n",
       "    </tr>\n",
       "  </tbody>\n",
       "</table>\n",
       "<p>215 rows × 3 columns</p>\n",
       "</div>"
      ],
      "text/plain": [
       "             Месяц  День  Активная энергия, кВтч\n",
       "день2                                           \n",
       "01 Apr 2021      4     1                  424.62\n",
       "02 Apr 2021      4     2                  456.78\n",
       "03 Apr 2021      4     3                  370.38\n",
       "04 Apr 2021      4     4                  385.80\n",
       "05 Apr 2021      4     5                  403.38\n",
       "...            ...   ...                     ...\n",
       "28 Oct 2021     10    28                  833.70\n",
       "29 Oct 2021     10    29                  855.48\n",
       "30 Oct 2021     10    30                  804.00\n",
       "31 Oct 2021     10    31                  822.12\n",
       "01 Nov 2021     11     1                   31.50\n",
       "\n",
       "[215 rows x 3 columns]"
      ]
     },
     "execution_count": 38,
     "metadata": {},
     "output_type": "execute_result"
    }
   ],
   "source": [
    "# создаем таблицу для вывода графика\n",
    "df1 = df.pivot_table(index = ['Месяц','День', 'день2'], values = 'Активная энергия, кВтч', aggfunc = 'sum').\\\n",
    "reset_index()\n",
    "a = df1.query('Месяц == 8 & День == 10')\n",
    "df2 = df1.set_index('день2', drop=True)\n",
    "df2"
   ]
  },
  {
   "cell_type": "code",
   "execution_count": 39,
   "metadata": {
    "scrolled": true
   },
   "outputs": [
    {
     "data": {
      "text/html": [
       "<div>\n",
       "<style scoped>\n",
       "    .dataframe tbody tr th:only-of-type {\n",
       "        vertical-align: middle;\n",
       "    }\n",
       "\n",
       "    .dataframe tbody tr th {\n",
       "        vertical-align: top;\n",
       "    }\n",
       "\n",
       "    .dataframe thead th {\n",
       "        text-align: right;\n",
       "    }\n",
       "</style>\n",
       "<table border=\"1\" class=\"dataframe\">\n",
       "  <thead>\n",
       "    <tr style=\"text-align: right;\">\n",
       "      <th></th>\n",
       "      <th>Месяц</th>\n",
       "      <th>День</th>\n",
       "      <th>Активная энергия, кВтч</th>\n",
       "    </tr>\n",
       "    <tr>\n",
       "      <th>день2</th>\n",
       "      <th></th>\n",
       "      <th></th>\n",
       "      <th></th>\n",
       "    </tr>\n",
       "  </thead>\n",
       "  <tbody>\n",
       "    <tr>\n",
       "      <th>01 Apr 2021</th>\n",
       "      <td>4</td>\n",
       "      <td>1</td>\n",
       "      <td>424.62</td>\n",
       "    </tr>\n",
       "    <tr>\n",
       "      <th>02 Apr 2021</th>\n",
       "      <td>4</td>\n",
       "      <td>2</td>\n",
       "      <td>456.78</td>\n",
       "    </tr>\n",
       "    <tr>\n",
       "      <th>03 Apr 2021</th>\n",
       "      <td>4</td>\n",
       "      <td>3</td>\n",
       "      <td>370.38</td>\n",
       "    </tr>\n",
       "    <tr>\n",
       "      <th>04 Apr 2021</th>\n",
       "      <td>4</td>\n",
       "      <td>4</td>\n",
       "      <td>385.80</td>\n",
       "    </tr>\n",
       "    <tr>\n",
       "      <th>05 Apr 2021</th>\n",
       "      <td>4</td>\n",
       "      <td>5</td>\n",
       "      <td>403.38</td>\n",
       "    </tr>\n",
       "    <tr>\n",
       "      <th>...</th>\n",
       "      <td>...</td>\n",
       "      <td>...</td>\n",
       "      <td>...</td>\n",
       "    </tr>\n",
       "    <tr>\n",
       "      <th>28 Oct 2021</th>\n",
       "      <td>10</td>\n",
       "      <td>28</td>\n",
       "      <td>833.70</td>\n",
       "    </tr>\n",
       "    <tr>\n",
       "      <th>29 Oct 2021</th>\n",
       "      <td>10</td>\n",
       "      <td>29</td>\n",
       "      <td>855.48</td>\n",
       "    </tr>\n",
       "    <tr>\n",
       "      <th>30 Oct 2021</th>\n",
       "      <td>10</td>\n",
       "      <td>30</td>\n",
       "      <td>804.00</td>\n",
       "    </tr>\n",
       "    <tr>\n",
       "      <th>31 Oct 2021</th>\n",
       "      <td>10</td>\n",
       "      <td>31</td>\n",
       "      <td>822.12</td>\n",
       "    </tr>\n",
       "    <tr>\n",
       "      <th>01 Nov 2021</th>\n",
       "      <td>11</td>\n",
       "      <td>1</td>\n",
       "      <td>31.50</td>\n",
       "    </tr>\n",
       "  </tbody>\n",
       "</table>\n",
       "<p>215 rows × 3 columns</p>\n",
       "</div>"
      ],
      "text/plain": [
       "             Месяц  День  Активная энергия, кВтч\n",
       "день2                                           \n",
       "01 Apr 2021      4     1                  424.62\n",
       "02 Apr 2021      4     2                  456.78\n",
       "03 Apr 2021      4     3                  370.38\n",
       "04 Apr 2021      4     4                  385.80\n",
       "05 Apr 2021      4     5                  403.38\n",
       "...            ...   ...                     ...\n",
       "28 Oct 2021     10    28                  833.70\n",
       "29 Oct 2021     10    29                  855.48\n",
       "30 Oct 2021     10    30                  804.00\n",
       "31 Oct 2021     10    31                  822.12\n",
       "01 Nov 2021     11     1                   31.50\n",
       "\n",
       "[215 rows x 3 columns]"
      ]
     },
     "execution_count": 39,
     "metadata": {},
     "output_type": "execute_result"
    }
   ],
   "source": [
    "df2 = df1.set_index('день2', drop=True)\n",
    "df2"
   ]
  },
  {
   "cell_type": "code",
   "execution_count": 40,
   "metadata": {},
   "outputs": [
    {
     "data": {
      "image/png": "[encoded data removed]",
      "text/plain": [
       "<Figure size 1008x504 with 1 Axes>"
      ]
     },
     "metadata": {
      "needs_background": "light"
     },
     "output_type": "display_data"
    }
   ],
   "source": [
    "fig, ax = plt.subplots(figsize=(14, 7))\n",
    "#one_tick = fig.axes[0].yaxis.get_major_ticks()[0]\n",
    "df2['Активная энергия, кВтч'].plot(colormap='Set1')\n",
    "\n",
    "\n",
    "ax.set_title('Потребление электрической энергии за период', fontsize=22)\n",
    "ax.legend(loc='upper left')\n",
    "ax.set_ylabel('Cуточное потребление, кВтч', fontsize=14)\n",
    "ax.set_xlabel('Месяц, день', fontsize=14)\n",
    "fig.tight_layout()\n",
    "ax.set_xlim(2, 210)\n",
    "ax.set_ylim(200, 1200)\n",
    "ax.grid(True)\n",
    "ax.minorticks_on()\n",
    "\n",
    "ax.grid(which='major',\n",
    "        color = 'k', \n",
    "        linewidth = 0.75)\n",
    "\n",
    "#  Определяем внешний вид линий вспомогательной\n",
    "#  сетки:\n",
    "ax.grid(which='minor', \n",
    "        color = 'k', \n",
    "        linestyle = ':')\n",
    "ax.axvline(a.index, label = 'Дата замены счетчика', color='b', linestyle='--')\n",
    "\n",
    "plt.legend(fontsize=14)\n",
    "plt.show()"
   ]
  },
  {
   "cell_type": "markdown",
   "metadata": {},
   "source": [
    "В начале периода потребление электроэнергии значительно ниже. Вероятно, рост потребления в апреле связан с установкой оборудования и вывода предприятия на производственную мощность.\n",
    "\n",
    "На величину потребления электроэнергии, как правило, влияют различные факторы: наличие электрообогрева, характер производственного цикла. Сравним значения электроэнергии заразличные периоды. Например, за месяц до замены счетчика и через месяц после. Для этого сформируем две выборки и оценим плотность распределения значений в них."
   ]
  },
  {
   "cell_type": "code",
   "execution_count": 41,
   "metadata": {},
   "outputs": [],
   "source": [
    "# зоздаем срез в зависимости от даты\n",
    "df_before = df[(df['Дата'] < '2021-08-10') & (df['Дата'] >= '2021-07-10')]\n",
    "df_after = df[(df['Дата'] > '2021-08-10') & (df['Дата'] <= '2021-09-10')]"
   ]
  },
  {
   "cell_type": "code",
   "execution_count": 42,
   "metadata": {},
   "outputs": [
    {
     "data": {
      "image/png": "[encoded data removed]",
      "text/plain": [
       "<Figure size 1008x504 with 1 Axes>"
      ]
     },
     "metadata": {
      "needs_background": "light"
     },
     "output_type": "display_data"
    }
   ],
   "source": [
    "#средние значения в выборках:\n",
    "d_bef = df_before['Активная энергия, кВтч'].mean()\n",
    "d_aft = df_after['Активная энергия, кВтч'].mean()\n",
    "\n",
    "#график\n",
    "fig, ax = plt.subplots(figsize=(14, 7))\n",
    "ax.grid(True)\n",
    "ax = plt.hist(x = df_before['Активная энергия, кВтч'], bins=30, range = (0,60), label  = 'Распределение до', alpha = 0.3)\n",
    "plt.hist(x = df_after['Активная энергия, кВтч'],  bins=30, range = (0,60), label = 'Распределение после', alpha = 0.3)\n",
    "\n",
    "plt.xlabel('Распределение частоты значений', fontsize=14)\n",
    "plt.title('Гистограмма распределения значений для оценки', fontsize=22)\n",
    "plt.ylabel('Потребление в час, кВтч', fontsize=14)\n",
    "\n",
    "\n",
    "plt.axvline(d_bef,label = 'среднее до замены', color='b', linestyle='--') \n",
    "plt.axvline(d_aft,label = 'среднее после замены', color='r', linestyle='--') \n",
    "plt.legend();"
   ]
  },
  {
   "cell_type": "code",
   "execution_count": 43,
   "metadata": {},
   "outputs": [
    {
     "name": "stdout",
     "output_type": "stream",
     "text": [
      "Среднее до: 28.644354838709713\n",
      "Среднее после: 34.423709677419346\n"
     ]
    }
   ],
   "source": [
    "print('Среднее до:', d_bef)\n",
    "print('Среднее после:', d_aft)"
   ]
  },
  {
   "cell_type": "markdown",
   "metadata": {},
   "source": [
    "Плотности распределения близки к нормальным, однако, распределение до замены менее выражено.\n",
    "Средние значения часового потребления за месяц различны: после замены счетчика, потребление выросло.\n",
    "Целесообразно провести проверку статистической гипотезы на равенство средних непараметрическим критерием Манна-Уитни. "
   ]
  },
  {
   "cell_type": "markdown",
   "metadata": {},
   "source": [
    "## Проверка статистических гипотез"
   ]
  },
  {
   "cell_type": "markdown",
   "metadata": {},
   "source": [
    "Для проверки этой гипотезы необходимо сравнить средние значения двух совокупностей: срезы данных в зависимости от используемого прибора учета\n",
    "\n",
    "Сравниваются две выборки между собой: за месяц до замены и через месяц после замены, дата замены счетчика ни в одной выборке не учитывается.\n",
    "\n",
    "Сформулируем нулевую и альтернативную гипотезы:\n",
    "\n",
    "**H0: среднее потребление электроэнергии, учитываемое снятым счетчиком равно среднему потреблению электроэнергии, учитываемому установленным счетчиком.**\n",
    "\n",
    "**H1: среднее потребление электроэнергии, учитываемое снятым и установленным счетчиком отличается.**"
   ]
  },
  {
   "cell_type": "code",
   "execution_count": 44,
   "metadata": {},
   "outputs": [],
   "source": [
    "# задаем функцию, параметрами которой будут уровень значимости и две выборки\n",
    "def check_hypotises_mu(alpha, val1, val2):\n",
    " \n",
    "    results = st.mannwhitneyu(val1, val2)\n",
    "    p_value = results[1]\n",
    "    #print('p-значение: ', p_value)\n",
    "    if (p_value < alpha):\n",
    "        print(\"Отвергаем нулевую гипотезу: Различие средних статистически значимо\")\n",
    "    else:\n",
    "        print(\"Не получилось отвергнуть нулевую гипотезу: Различие средних статистически незначимо\") \n",
    "    \n",
    "    print(\"p-значение: \",\"{0:.3f}\".format(p_value))"
   ]
  },
  {
   "cell_type": "markdown",
   "metadata": {},
   "source": [
    "Проверим выборки за месяц:"
   ]
  },
  {
   "cell_type": "code",
   "execution_count": 45,
   "metadata": {},
   "outputs": [
    {
     "name": "stdout",
     "output_type": "stream",
     "text": [
      "Отвергаем нулевую гипотезу: Различие средних статистически значимо\n",
      "p-значение:  0.000\n"
     ]
    }
   ],
   "source": [
    "check_hypotises_mu(alpha = 0.05, val1 = df_before['Активная энергия, кВтч'],\\\n",
    "                   val2 = df_after['Активная энергия, кВтч'])"
   ]
  },
  {
   "cell_type": "markdown",
   "metadata": {},
   "source": [
    "**Различие среднего значения потребленияэлектроэнергии до замены (28,6 кВтч) и среднего значения потребления электроэнергии после замены (34,4 кВтч) статистически значимо различны**\n",
    "\n",
    "Изменим размер проверяемых выборок, и проверим различия в учете потребления электроэнергии за неделю до и за неделю после замены. На графике потребления эти изменения сложно оценить визуально за такой непродолжительный период.\n",
    "\n",
    "Сформируем две выборки. Дату замены прибора из обеих выборок также исключаем."
   ]
  },
  {
   "cell_type": "code",
   "execution_count": 46,
   "metadata": {},
   "outputs": [
    {
     "name": "stdout",
     "output_type": "stream",
     "text": [
      "Среднее значение до замены: 31.72214285714286\n",
      "Среднее значение после замены: 32.8282142857143\n"
     ]
    }
   ],
   "source": [
    "df_before_7 = df[(df['Дата'] < '2021-08-10') & (df['Дата'] >= '2021-08-03')]\n",
    "df_after_7 = df[(df['Дата'] > '2021-08-10') & (df['Дата'] <= '2021-08-17')]\n",
    "\n",
    "print('Среднее значение до замены:', df_before_7['Активная энергия, кВтч'].mean())\n",
    "print('Среднее значение после замены:',df_after_7['Активная энергия, кВтч'].mean())"
   ]
  },
  {
   "cell_type": "markdown",
   "metadata": {},
   "source": [
    "Проверим те же гипотезы на семидневных выборках, на уровне значимости = 0,05"
   ]
  },
  {
   "cell_type": "code",
   "execution_count": 47,
   "metadata": {},
   "outputs": [
    {
     "name": "stdout",
     "output_type": "stream",
     "text": [
      "Отвергаем нулевую гипотезу: Различие средних статистически значимо\n",
      "p-значение:  0.045\n"
     ]
    }
   ],
   "source": [
    "check_hypotises_mu(alpha = 0.05, val1 = df_before_7['Активная энергия, кВтч'],\\\n",
    "                   val2 = df_after_7['Активная энергия, кВтч'])"
   ]
  },
  {
   "cell_type": "markdown",
   "metadata": {},
   "source": [
    "**Таким образом, при выбранном уровне значимости мы также получили статистически значимое различие средних значений: среднее значение потребления электроэнергии после замены прибора выше**"
   ]
  },
  {
   "cell_type": "markdown",
   "metadata": {},
   "source": [
    "## Вывод. \n",
    "\n",
    "**Среднечасовое потребление электрической энергии потребителем до замены прибора учета и после замены прибора учета статистически различны. Проведение статистического теста на недельных выборках свидетельствует о том, что вновь установленный прибор учитывает учитывает большее количество электроэнергии.**\n",
    "\n",
    " *По результатам технического исследования снятого прибора учета заводом-изготовителем установлено наличие непредусмотренного заводом устройства. Данное устройство используется для искажения учитываемой счетчиком электроэнергии (потребление уменьшается дистанционно). Таким образом, установлено вмешательство потреблителя в учет электроэнергии.*"
   ]
  }
 ],
 "metadata": {
  "kernelspec": {
   "display_name": "Python 3",
   "language": "python",
   "name": "python3"
  },
  "language_info": {
   "codemirror_mode": {
    "name": "ipython",
    "version": 3
   },
   "file_extension": ".py",
   "mimetype": "text/x-python",
   "name": "python",
   "nbconvert_exporter": "python",
   "pygments_lexer": "ipython3",
   "version": "3.8.3"
  },
  "toc": {
   "base_numbering": 1,
   "nav_menu": {},
   "number_sections": false,
   "sideBar": true,
   "skip_h1_title": false,
   "title_cell": "Table of Contents",
   "title_sidebar": "Contents",
   "toc_cell": false,
   "toc_position": {
    "height": "calc(100% - 180px)",
    "left": "10px",
    "top": "150px",
    "width": "173px"
   },
   "toc_section_display": true,
   "toc_window_display": true
  }
 },
 "nbformat": 4,
 "nbformat_minor": 4
}
